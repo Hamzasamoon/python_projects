{
  "nbformat": 4,
  "nbformat_minor": 0,
  "metadata": {
    "colab": {
      "private_outputs": true,
      "provenance": [],
      "authorship_tag": "ABX9TyPJEYPMu9BnoOUZKjqFfJAu",
      "include_colab_link": true
    },
    "kernelspec": {
      "name": "python3",
      "display_name": "Python 3"
    },
    "language_info": {
      "name": "python"
    }
  },
  "cells": [
    {
      "cell_type": "markdown",
      "metadata": {
        "id": "view-in-github",
        "colab_type": "text"
      },
      "source": [
        "<a href=\"https://colab.research.google.com/github/Hamzasamoon/python_projects/blob/main/Calculator.ipynb\" target=\"_parent\"><img src=\"https://colab.research.google.com/assets/colab-badge.svg\" alt=\"Open In Colab\"/></a>"
      ]
    },
    {
      "cell_type": "code",
      "execution_count": null,
      "metadata": {
        "id": "zxSs71I11Doo"
      },
      "outputs": [],
      "source": [
        "def Calculator(frist_num,second_num,operation):\n",
        "     if operation == \"+\":\n",
        "      print(frist_num + second_num)\n",
        "     elif operation == \"-\":\n",
        "      print(frist_num - second_num)\n",
        "     elif operation == \"*\":\n",
        "      print(frist_num * second_num)\n",
        "     elif operation == \"/\":\n",
        "      print(frist_num // second_num)\n",
        "frist = int(input(\"Enter first number :\"))\n",
        "second = int(input(\"Enter second number :\"))\n",
        "operation = input(\"Enter operation :\")\n",
        "Calculator(frist,second,operation)"
      ]
    }
  ]
}